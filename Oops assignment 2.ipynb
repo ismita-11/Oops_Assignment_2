{
 "cells": [
  {
   "cell_type": "markdown",
   "id": "b72eca3f-660b-455d-84fa-3b03c21fd20b",
   "metadata": {},
   "source": [
    "Abstraction with example\n"
   ]
  },
  {
   "cell_type": "markdown",
   "id": "770ea2f7-91b0-4ede-ae36-2dc6523ebc63",
   "metadata": {},
   "source": [
    "Abstraction:-\n",
    "              The process by which data and function are defined in such a way that only essential details can be seen and un-necessary implentations are hidden."
   ]
  },
  {
   "cell_type": "code",
   "execution_count": 2,
   "id": "7ecd29e0-3a4f-4118-91a5-5675a0cb06d6",
   "metadata": {},
   "outputs": [],
   "source": [
    "from abc import ABC,abstractmethod\n",
    "class CAR(ABC):\n",
    "    def show(self):\n",
    "        print(\"This is designed by Thomas Alden\")\n",
    "    @abstractmethod  \n",
    "    def speed(self):\n",
    "        pass\n",
    "    \n",
    "class Maruti(CAR):\n",
    "    def speed(self):\n",
    "        print(\"speed is 34kmph\")\n",
    "\n",
    "class Audi(CAR):\n",
    "    def speed(self):\n",
    "        print(\"speed is 56kmph\")"
   ]
  },
  {
   "cell_type": "code",
   "execution_count": 3,
   "id": "ca5c1a26-976b-4a51-a281-c763156c21b3",
   "metadata": {},
   "outputs": [],
   "source": [
    "h=Maruti()\n",
    "j=Audi()"
   ]
  },
  {
   "cell_type": "code",
   "execution_count": 4,
   "id": "d72d2ef0-ed0e-44cf-a62a-9106a7221a77",
   "metadata": {},
   "outputs": [
    {
     "name": "stdout",
     "output_type": "stream",
     "text": [
      "This is designed by Thomas Alden\n",
      "speed is 34kmph\n"
     ]
    }
   ],
   "source": [
    "h.show()\n",
    "h.speed()"
   ]
  },
  {
   "cell_type": "code",
   "execution_count": 5,
   "id": "13b32976-ed54-4e7e-a2fe-b97445b3b434",
   "metadata": {},
   "outputs": [
    {
     "name": "stdout",
     "output_type": "stream",
     "text": [
      "This is designed by Thomas Alden\n",
      "speed is 56kmph\n"
     ]
    }
   ],
   "source": [
    "j.show()\n",
    "j.speed()"
   ]
  },
  {
   "cell_type": "markdown",
   "id": "f56e5a01-09b4-4848-82a5-033ca5fac58b",
   "metadata": {},
   "source": [
    "3)What is abc module in python? why is used?\n",
    "\n",
    "Ans:-It stands for abstract base classes that enables the developers to define and enforce a consistent API for a goup of realted class\n",
    " The abc module provides a set of tools for creating and working with abstract base classes which works like blue print of our classes as they don't contain method implentation\n",
    " \n",
    " \n"
   ]
  },
  {
   "cell_type": "markdown",
   "id": "04aa0dd4-cb0b-438a-96e4-9c593933398c",
   "metadata": {},
   "source": [
    "4) To achieve abstraction "
   ]
  },
  {
   "cell_type": "code",
   "execution_count": 8,
   "id": "5e23f36a-2e83-490d-bb54-8cd593198118",
   "metadata": {},
   "outputs": [],
   "source": [
    "from abc import ABC,abstractmethod\n",
    "class TOY(ABC):\n",
    "    @abstractmethod\n",
    "    def Play(self):\n",
    "        pass"
   ]
  },
  {
   "cell_type": "markdown",
   "id": "5e3b4065-532f-4419-b527-3b499e0c3f8e",
   "metadata": {},
   "source": [
    "5) Can we create an instance of an abstract?\n",
    "\n",
    "ANS:-We can not create a instance or object for an abstract class. If we do so it shows an error"
   ]
  },
  {
   "cell_type": "code",
   "execution_count": 9,
   "id": "dcc81de6-ba09-4ea3-9080-abfa92f281b0",
   "metadata": {},
   "outputs": [],
   "source": [
    "from abc import ABC,abstractmethod\n",
    "class CAR(ABC):\n",
    "    @abstractmethod\n",
    "    def speed(self):\n",
    "        pass\n",
    "    def colour(self):\n",
    "        print(\"It is white\")"
   ]
  },
  {
   "cell_type": "code",
   "execution_count": 10,
   "id": "6b92bc02-e288-4c37-a214-4027260bd85d",
   "metadata": {},
   "outputs": [
    {
     "ename": "TypeError",
     "evalue": "Can't instantiate abstract class CAR with abstract method speed",
     "output_type": "error",
     "traceback": [
      "\u001b[0;31m---------------------------------------------------------------------------\u001b[0m",
      "\u001b[0;31mTypeError\u001b[0m                                 Traceback (most recent call last)",
      "Cell \u001b[0;32mIn[10], line 1\u001b[0m\n\u001b[0;32m----> 1\u001b[0m car\u001b[38;5;241m=\u001b[39m \u001b[43mCAR\u001b[49m\u001b[43m(\u001b[49m\u001b[43m)\u001b[49m\n",
      "\u001b[0;31mTypeError\u001b[0m: Can't instantiate abstract class CAR with abstract method speed"
     ]
    }
   ],
   "source": [
    "car= CAR()"
   ]
  },
  {
   "cell_type": "code",
   "execution_count": null,
   "id": "f1f9826b-2430-4850-bd1f-a53ac20b68f2",
   "metadata": {},
   "outputs": [],
   "source": []
  }
 ],
 "metadata": {
  "kernelspec": {
   "display_name": "Python 3 (ipykernel)",
   "language": "python",
   "name": "python3"
  },
  "language_info": {
   "codemirror_mode": {
    "name": "ipython",
    "version": 3
   },
   "file_extension": ".py",
   "mimetype": "text/x-python",
   "name": "python",
   "nbconvert_exporter": "python",
   "pygments_lexer": "ipython3",
   "version": "3.10.8"
  }
 },
 "nbformat": 4,
 "nbformat_minor": 5
}
